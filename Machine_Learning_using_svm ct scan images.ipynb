{
 "cells": [
  {
   "cell_type": "code",
   "execution_count": null,
   "metadata": {
    "id": "JMI0pDdVoDVh"
   },
   "outputs": [],
   "source": [
    "import numpy as np\n",
    "import pandas as pd\n",
    "from sklearn.model_selection import train_test_split\n",
    "import matplotlib.pyplot as plt\n",
    "import seaborn as sns\n",
    "from sklearn.metrics import accuracy_score"
   ]
  },
  {
   "cell_type": "code",
   "execution_count": null,
   "metadata": {
    "id": "BdMh2GUJo4xt"
   },
   "outputs": [],
   "source": [
    "import os\n",
    "os.environ['KAGGLE_USERNAME']='harshaldharpure'\n",
    "os.environ['KAGGLE_KEY']='f72849b3bc25bfa7b294800c46217493'"
   ]
  },
  {
   "cell_type": "code",
   "execution_count": null,
   "metadata": {
    "id": "ZrInyolwosYU"
   },
   "outputs": [],
   "source": [
    "! kaggle datasets download -d mohamedhanyyy/chest-ctscan-images"
   ]
  },
  {
   "cell_type": "code",
   "execution_count": null,
   "metadata": {
    "id": "T62SxilUo-r0"
   },
   "outputs": [],
   "source": [
    "! unzip chest-ctscan-images.zip"
   ]
  },
  {
   "cell_type": "code",
   "execution_count": null,
   "metadata": {
    "id": "xkO6aPQnpNAu"
   },
   "outputs": [],
   "source": [
    "import os\n",
    "path=os.listdir('/content/Data/train')\n",
    "classes={'normal':0,'adenocarcinoma_left.lower.lobe_T2_N0_M0_Ib':1}"
   ]
  },
  {
   "cell_type": "code",
   "execution_count": null,
   "metadata": {
    "id": "uquEzeN5pM7F"
   },
   "outputs": [],
   "source": [
    "import cv2\n",
    "x=[]\n",
    "y=[]\n",
    "for cls in classes:\n",
    "  pth='/content/Data/train/'+cls\n",
    "  for j in os.listdir(pth):\n",
    "    img=cv2.imread(pth+'/'+j,0)\n",
    "    img=cv2.resize(img,(200,200))\n",
    "    x.append(img)\n",
    "    y.append(classes[cls])"
   ]
  },
  {
   "cell_type": "code",
   "execution_count": null,
   "metadata": {
    "id": "2O-_eyfgqW__"
   },
   "outputs": [],
   "source": [
    "x=np.array(x)\n",
    "y=np.array(y)\n",
    "x_updated=x.reshape(len(x),-1)"
   ]
  },
  {
   "cell_type": "code",
   "execution_count": null,
   "metadata": {
    "id": "CtIsEeHNqxMC"
   },
   "outputs": [],
   "source": [
    "np.unique(y)"
   ]
  },
  {
   "cell_type": "code",
   "execution_count": null,
   "metadata": {
    "id": "SN-ts1apqz9T"
   },
   "outputs": [],
   "source": [
    "import pandas as pd\n",
    "pd.Series(y).value_counts()"
   ]
  },
  {
   "cell_type": "code",
   "execution_count": null,
   "metadata": {
    "id": "uRXJyjfFrF4a"
   },
   "outputs": [],
   "source": [
    "x.shape,x_updated.shape"
   ]
  },
  {
   "cell_type": "code",
   "execution_count": null,
   "metadata": {
    "id": "BkDtRbD4rhBZ"
   },
   "outputs": [],
   "source": [
    "plt.imshow(x[0],cmap='gray')"
   ]
  },
  {
   "cell_type": "code",
   "execution_count": null,
   "metadata": {
    "id": "SSv96id8rn-m"
   },
   "outputs": [],
   "source": [
    "xtrain,xtest,ytrain,ytest=train_test_split(x_updated,y,random_state=10,test_size=.20)"
   ]
  },
  {
   "cell_type": "code",
   "execution_count": null,
   "metadata": {
    "id": "7iZV7CrcsI-1"
   },
   "outputs": [],
   "source": [
    "xtrain.shape,xtest.shape"
   ]
  },
  {
   "cell_type": "code",
   "execution_count": null,
   "metadata": {
    "id": "Y4aH7_VFsND2"
   },
   "outputs": [],
   "source": [
    "print(xtrain.max(),xtrain.min())\n",
    "print(xtest.max(),xtest.min())\n",
    "xtrain=xtrain/255\n",
    "xtest=xtest/255\n",
    "print(xtrain.max(),xtrain.min())\n",
    "print(xtest.max(),xtest.min())"
   ]
  },
  {
   "cell_type": "code",
   "execution_count": null,
   "metadata": {
    "id": "GCeJXSOvssm2"
   },
   "outputs": [],
   "source": [
    "from sklearn.linear_model import LogisticRegression\n",
    "from sklearn.svm import SVC"
   ]
  },
  {
   "cell_type": "code",
   "execution_count": null,
   "metadata": {
    "id": "7ywQxya5tA7w"
   },
   "outputs": [],
   "source": [
    "import warnings \n",
    "warnings.filterwarnings('ignore')\n",
    "lg=LogisticRegression(C=0.1)\n",
    "lg.fit(xtrain,ytrain)"
   ]
  },
  {
   "cell_type": "code",
   "execution_count": null,
   "metadata": {
    "id": "13710n45tVE7"
   },
   "outputs": [],
   "source": [
    "sv=SVC()\n",
    "sv.fit(xtrain,ytrain)"
   ]
  },
  {
   "cell_type": "code",
   "execution_count": null,
   "metadata": {
    "id": "NlPiaom-tPW_"
   },
   "outputs": [],
   "source": [
    "print(\"Training Score : \",lg.score(xtrain,ytrain))\n",
    "print(\"Testing score : \",lg.score(xtest,ytest))"
   ]
  },
  {
   "cell_type": "code",
   "execution_count": null,
   "metadata": {
    "id": "ll6v9KePx2ZS"
   },
   "outputs": [],
   "source": [
    "sv.fit(xtrain,ytrain)"
   ]
  },
  {
   "cell_type": "code",
   "execution_count": null,
   "metadata": {
    "id": "3Z9k5YSvyQG5"
   },
   "outputs": [],
   "source": [
    "print(\"Training Score : \",sv.score(xtrain,ytrain))\n",
    "print(\"Testing score : \",sv.score(xtest,ytest))"
   ]
  },
  {
   "cell_type": "markdown",
   "metadata": {
    "id": "JgT5s0w23jMj"
   },
   "source": []
  },
  {
   "cell_type": "code",
   "execution_count": null,
   "metadata": {
    "id": "TSH2HdIOf5J4"
   },
   "outputs": [],
   "source": [
    "from sklearn.naive_bayes import GaussianNB\n",
    "gb = GaussianNB()\n",
    "gb.fit(xtrain, ytrain)"
   ]
  },
  {
   "cell_type": "code",
   "execution_count": null,
   "metadata": {
    "id": "zM8Q_4mMgAFz"
   },
   "outputs": [],
   "source": [
    "print(\"Training Score : \",gb.score(xtrain,ytrain))\n",
    "print(\"Testing score : \",gb.score(xtest,ytest))"
   ]
  },
  {
   "cell_type": "code",
   "execution_count": null,
   "metadata": {
    "id": "9PteukKa3rgS"
   },
   "outputs": [],
   "source": [
    "from sklearn.model_selection import cross_val_score\n",
    "X1, X2, y1, y2 = train_test_split(x_updated,y, random_state=0,\n",
    "                                  train_size=0.5)\n",
    "sv.fit(X1, y1)\n",
    "y2_model = sv.predict(X2)\n",
    "accuracy_score(y2, y2_model)"
   ]
  },
  {
   "cell_type": "code",
   "execution_count": null,
   "metadata": {
    "id": "5VfUZBhPgjmk"
   },
   "outputs": [],
   "source": [
    "from sklearn.ensemble import RandomForestClassifier\n",
    "from sklearn.model_selection import cross_val_score\n",
    "rc=RandomForestClassifier()\n",
    "rc.fit(xtrain,ytrain)\n",
    "\n",
    "print(\"Training Score : \",rc.score(xtrain,ytrain))\n",
    "print(\"Testing score : \",rc.score(xtest,ytest))"
   ]
  },
  {
   "cell_type": "code",
   "execution_count": null,
   "metadata": {
    "id": "QT0ftlmaycgB"
   },
   "outputs": [],
   "source": [
    "from sklearn.tree import DecisionTreeClassifier\n",
    "dc=DecisionTreeClassifier(criterion='gini')\n",
    "dc.fit(xtrain,ytrain)"
   ]
  },
  {
   "cell_type": "code",
   "execution_count": null,
   "metadata": {
    "id": "C98uPNB1yL0c"
   },
   "outputs": [],
   "source": [
    "print(\"Training Score : \",rc.score(xtrain,ytrain))\n",
    "print(\"Testing score : \",rc.score(xtest,ytest))"
   ]
  },
  {
   "cell_type": "code",
   "execution_count": null,
   "metadata": {
    "id": "1fdn8dJcrao6"
   },
   "outputs": [],
   "source": [
    "from sklearn.svm import SVC\n",
    "classifier=SVC(kernel='linear',random_state=0)\n",
    "classifier.fit(xtrain,ytrain)"
   ]
  },
  {
   "cell_type": "code",
   "execution_count": null,
   "metadata": {
    "id": "3f5_94b5rX0B"
   },
   "outputs": [],
   "source": [
    "from sklearn.model_selection import cross_val_score\n",
    "accuriessvc=cross_val_score(estimator=classifier,X=xtrain,y=ytrain,cv=10)\n",
    "print('accuracy is {:.2f} %'.format(accuriessvc.mean()*100))\n",
    "print('standard deviation{:.2f} %'.format(accuriessvc.std()*100))"
   ]
  },
  {
   "cell_type": "code",
   "execution_count": null,
   "metadata": {
    "id": "PsxIPUD0rNh8"
   },
   "outputs": [],
   "source": [
    "from sklearn.linear_model import LogisticRegression\n",
    "classifier=LogisticRegression()\n",
    "classifier.fit(xtrain,ytrain)"
   ]
  },
  {
   "cell_type": "code",
   "execution_count": null,
   "metadata": {
    "id": "Nj5NhwWGrAco"
   },
   "outputs": [],
   "source": [
    "from sklearn.model_selection import cross_val_score\n",
    "accuries=cross_val_score(estimator=classifier,X=xtrain,y=ytrain,cv=10)\n",
    "print('accuracy is {:.2f} %'.format(accuries.mean()*100))\n",
    "print('standard deviation{:.2f} %'.format(accuries.std()*100))"
   ]
  },
  {
   "cell_type": "code",
   "execution_count": null,
   "metadata": {
    "id": "aHFGsakoq74F"
   },
   "outputs": [],
   "source": [
    "from sklearn.naive_bayes import GaussianNB\n",
    "gb = GaussianNB()\n",
    "gb.fit(xtrain, ytrain)"
   ]
  },
  {
   "cell_type": "code",
   "execution_count": null,
   "metadata": {
    "id": "CyQk39Ewqpov"
   },
   "outputs": [],
   "source": [
    "from sklearn.model_selection import cross_val_score\n",
    "accuriesnb=cross_val_score(estimator=gb,X=xtrain,y=ytrain,cv=10)\n",
    "print('accuracy is {:.2f} %'.format(accuriesnb.mean()*100))\n",
    "print('standard deviation{:.2f} %'.format(accuriesnb.std()*100))"
   ]
  },
  {
   "cell_type": "code",
   "execution_count": null,
   "metadata": {
    "id": "Crk5xc-XFyUl"
   },
   "outputs": [],
   "source": [
    "dec={0:'normal',1:'adenocarcinoma_left.lower.lobe_T2_N0_M0_Ib'}\n",
    "plt.figure(figsize=(12,8))\n",
    "p=os.listdir('/content/Data/test/')\n",
    "c=1\n",
    "for i in os.listdir('/content/Data/test/normal')[:9]:\n",
    "  plt.subplot(3,3,c)\n",
    "\n",
    "  img=cv2.imread('/content/Data/test/normal/'+i,0)\n",
    "  img1=cv2.resize(img,(200,200))\n",
    "  img1=img1.reshape(1,-1)/255\n",
    "  p=sv.predict(img1)\n",
    "  plt.title(dec[p[0]])\n",
    "  plt.imshow(img,cmap='gray')\n",
    "  plt.axis('off')\n",
    "  c+=1"
   ]
  },
  {
   "cell_type": "code",
   "execution_count": null,
   "metadata": {
    "id": "kxGEvlnBHX9X"
   },
   "outputs": [],
   "source": [
    "plt.figure(figsize=(12,8))\n",
    "p=os.listdir('/content/Data/train/')\n",
    "c=1\n",
    "for i in os.listdir('/content/Data/train/adenocarcinoma_left.lower.lobe_T2_N0_M0_Ib/')[:16]:\n",
    "  plt.subplot(4,4,c)\n",
    "\n",
    "  img=cv2.imread('/content/Data/train/adenocarcinoma_left.lower.lobe_T2_N0_M0_Ib/'+i,0)\n",
    "  img1=cv2.resize(img,(200,200))\n",
    "  img1=img1.reshape(1,-1)/255\n",
    "  p=sv.predict(img1)\n",
    "  plt.title(dec[p[0]])\n",
    "  plt.imshow(img,cmap='gray')\n",
    "  plt.axis('off')\n",
    "  c+=1"
   ]
  },
  {
   "cell_type": "code",
   "execution_count": null,
   "metadata": {
    "id": "NOEvctYKHOPJ"
   },
   "outputs": [],
   "source": [
    "plt.figure(figsize=(12,8))\n",
    "p=os.listdir('/content/Data/test/')\n",
    "c=1\n",
    "for i in os.listdir('/content/Data/test/large.cell.carcinoma/')[:16]:\n",
    "  plt.subplot(4,4,c)\n",
    "\n",
    "  img=cv2.imread('/content/Data/test/large.cell.carcinoma/'+i,0)\n",
    "  img1=cv2.resize(img,(200,200))\n",
    "  img1=img1.reshape(1,-1)/255\n",
    "  p=sv.predict(img1)\n",
    "  plt.title(dec[p[0]])\n",
    "  plt.imshow(img,cmap='gray')\n",
    "  plt.axis('off')\n",
    "  c+=1"
   ]
  }
 ],
 "metadata": {
  "colab": {
   "name": "Machine Learning using svm.ipynb",
   "private_outputs": true,
   "provenance": []
  },
  "kernelspec": {
   "display_name": "Python 3",
   "language": "python",
   "name": "python3"
  },
  "language_info": {
   "codemirror_mode": {
    "name": "ipython",
    "version": 3
   },
   "file_extension": ".py",
   "mimetype": "text/x-python",
   "name": "python",
   "nbconvert_exporter": "python",
   "pygments_lexer": "ipython3",
   "version": "3.8.8"
  }
 },
 "nbformat": 4,
 "nbformat_minor": 1
}
